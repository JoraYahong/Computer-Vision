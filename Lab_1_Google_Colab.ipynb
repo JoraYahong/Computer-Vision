{
  "nbformat": 4,
  "nbformat_minor": 0,
  "metadata": {
    "colab": {
      "name": "Lab_1_Google_Colab.ipynb",
      "provenance": [],
      "collapsed_sections": []
    },
    "kernelspec": {
      "name": "python3",
      "display_name": "Python 3"
    },
    "accelerator": "GPU"
  },
  "cells": [
    {
      "cell_type": "markdown",
      "metadata": {
        "id": "ZPZ7w21n8Nq1"
      },
      "source": [
        "# Getting Started with Google Colab\n",
        "\n",
        "Welcome to the first lab class!\n",
        "\n",
        "This notebook is designed to give you an easy introduction to using Google Colab for your projects. \n",
        "\n",
        "If you have used a Jupyter notebook before, Google Colab will seem familar. If you are an absoulte beginner, no problem. I'll take you through it step by step. \n",
        "\n",
        "---\n",
        "\n",
        "**What you should learn:**\n",
        "\n",
        "At the end of this Lab session, you should understand how to:\n",
        "\n",
        "*   Save a colab notebook to your Google Drive.\n",
        "*   Connect a notebook to a Runtime session.\n",
        "*   Download a notebook locally for assignments.\n",
        "*   Import images, files and datasets from your drive or other sources.\n",
        "*   Understand basic terminal commands in Colab.\n",
        "*   Install Python Packages.\n",
        "\n",
        "**Ok, Let's get started!**"
      ]
    },
    {
      "cell_type": "markdown",
      "metadata": {
        "id": "9Vokm5Pa9xSm"
      },
      "source": [
        "# Menu Basics\n",
        "\n",
        "Below are a few essential tips and tricks.\n",
        "\n"
      ]
    },
    {
      "cell_type": "markdown",
      "metadata": {
        "id": "ZBJTIIgmnreb"
      },
      "source": [
        "### Saving \n",
        "First thing you need to do when you open this Colab notebook is to save a copy that you can edit yourself.\n",
        "\n",
        "File > Save a copy in Drive.\n",
        "\n",
        "---\n",
        "\n",
        "Rename the notebook\n",
        "In your drive, the notebook will be saved in the default 'Colab Notebooks\" Folder. It's a good idea to rename your Notebook."
      ]
    },
    {
      "cell_type": "markdown",
      "metadata": {
        "id": "mgFrYT8v9xhL"
      },
      "source": [
        "### Downloading your Notebook\n",
        "\n",
        "You can download a notebook and save it to your hardrive, where it can be opened locally using Jupyter Notebook, or for submitting for assignments.\n",
        "\n",
        "*   File > Download .ipynb\n"
      ]
    },
    {
      "cell_type": "code",
      "metadata": {
        "id": "doafA9IRm9d_"
      },
      "source": [
        ""
      ],
      "execution_count": null,
      "outputs": []
    },
    {
      "cell_type": "markdown",
      "metadata": {
        "id": "pJa6Q7PT9yBJ"
      },
      "source": [
        "### Enabling GPU\n",
        "\n",
        "[Colab](https://research.google.com/colaboratory/faq.html) lets you access a free GPU. The type of GPU's available include Nvidia K80s, T4s, P4s and P100s. \n",
        "\n",
        "*   Runtime > Change Tuntime type > Hardware accelerator > GPU\n",
        "*   Connect to Hosted Runtime [Right hand side menu]"
      ]
    },
    {
      "cell_type": "markdown",
      "metadata": {
        "id": "zrfX6gfU-pL7"
      },
      "source": [
        "# Importing Data - Where is my Data Path?\n",
        "\n",
        "On the left, you will see a file icon. Here you can upload files directly. However, When your restart your instance, the files will be deleted. You will have to re-upload files each time you use your notebook, so it's best to mount your drive.\n",
        "\n",
        "**After upload, message received:**\n",
        "\n",
        "'Reminder, uploaded files will get deleted when this runtime is recycled'\n",
        "\n",
        "Now we will look at two ways of importing a simple image.\n",
        "\n",
        "We are going to use [OpenCV](https://opencv.org/) and [Matplotlib](https://matplotlib.org/) to import the image. This is pre-installed in Colab, so no need to install.\n",
        "\n"
      ]
    },
    {
      "cell_type": "markdown",
      "metadata": {
        "id": "LedlrYJe0b_q"
      },
      "source": [
        "### Display image uploaded to Colab"
      ]
    },
    {
      "cell_type": "code",
      "metadata": {
        "id": "ph7RWLlGPMYg"
      },
      "source": [
        "# Imports\n",
        "import cv2\n",
        "import matplotlib.pyplot as plt\n",
        "%matplotlib inline\n",
        "\n",
        "# Upload an image to the 'content' folder\n",
        "# Right click the image, you just uploaded and copy the url\n",
        "img = cv2.imread('/content/my_image.jpg')\n",
        "myimg = cv2.cvtColor(img, cv2.COLOR_BGR2RGB)\n",
        "\n",
        "# show image with matplotlib\n",
        "plt.imshow(myimg)"
      ],
      "execution_count": null,
      "outputs": []
    },
    {
      "cell_type": "markdown",
      "metadata": {
        "id": "-BMRL4_8_GQF"
      },
      "source": [
        "### Mounting your drive\n",
        "\n",
        "After you run this code cell, you will be redirected to a 'Sign page' and given a link to copy.\n",
        "\n",
        "Enter this link into the authorization code box below, and press enter.\n",
        "\n",
        "A new folder 'gdrive' will be visible, where you just uploaded your image."
      ]
    },
    {
      "cell_type": "code",
      "metadata": {
        "id": "EQA4Rdlt_Uf4"
      },
      "source": [
        "# Run this cell to mount your Google Drive.\n",
        "from google.colab import drive\n",
        "drive.mount('/content/gdrive')"
      ],
      "execution_count": null,
      "outputs": []
    },
    {
      "cell_type": "markdown",
      "metadata": {
        "id": "6MRZkH1g0nPS"
      },
      "source": [
        "### Display image from your Drive"
      ]
    },
    {
      "cell_type": "code",
      "metadata": {
        "id": "tmdd3LqYPGKw"
      },
      "source": [
        "# Imports\n",
        "import cv2\n",
        "import matplotlib.pyplot as plt\n",
        "%matplotlib inline\n",
        "\n",
        "# Upload an image to your google drive\n",
        "# Right click the image, from your gdrive and copy the url\n",
        "img = cv2.imread('/content/gdrive/MyDrive/my_image.jpg')\n",
        "driveimg = cv2.cvtColor(img, cv2.COLOR_BGR2RGB)\n",
        "\n",
        "# show image with matplotlib\n",
        "plt.imshow(driveimg)"
      ],
      "execution_count": null,
      "outputs": []
    },
    {
      "cell_type": "markdown",
      "metadata": {
        "id": "QAgmWc4CGQHI"
      },
      "source": [
        "## Download a Custom Dataset\n",
        "\n",
        "In this example we will try to download a dataset from Github, to your Google Drive.\n",
        "\n",
        "\n",
        "*   Sign Language Digits Dataset\n",
        "*   https://github.com/ardamavi/Sign-Language-Digits-Dataset"
      ]
    },
    {
      "cell_type": "code",
      "metadata": {
        "id": "eqfXYmMbGMP2"
      },
      "source": [
        "# Download a Dataset\n",
        "\n",
        "%cd \"/content/gdrive/MyDrive\"\n",
        "!git clone https://github.com/ardamavi/Sign-Language-Digits-Dataset.git\n"
      ],
      "execution_count": null,
      "outputs": []
    },
    {
      "cell_type": "markdown",
      "metadata": {
        "id": "CaDOVkTtSns4"
      },
      "source": [
        "# Terminal Commands Examples in Colab"
      ]
    },
    {
      "cell_type": "markdown",
      "metadata": {
        "id": "gIkVaZUU_zuG"
      },
      "source": [
        "```\n",
        "#CD into directory\n",
        "%cd <folder name>\n",
        "\n",
        "# Clone GitHub repos\n",
        "!git clone https://github.com/xxxx\n",
        "\n",
        "# View contents of a folder\n",
        "!ls\n",
        "\n",
        "# Install Packages\n",
        "!pip install <package name>\n",
        "\n",
        "# download files\n",
        "!wget <path to file>\n",
        "!wget https://s3-us-west-1.amazonaws.com/xxxx.zip\n",
        "\n",
        "# Unzip a file\n",
        "!unzip <path to file>\n",
        "\n",
        "# create a folder\n",
        "!mkdir <folder name>\n",
        "\n",
        "# remove folder , subfolder and files\n",
        "!rm -rf <folder name>\n",
        "\n",
        "```\n",
        "\n"
      ]
    },
    {
      "cell_type": "markdown",
      "metadata": {
        "id": "WTb5wDIsAbKy"
      },
      "source": [
        "# Further Reading\n",
        "\n",
        "*   [Colab Cheat Sheet](https://medium.com/@rahul.metangale/google-colaboratory-cheat-sheet-24b99813b0f0)\n",
        "\n",
        "*   [Another Colab Cheat Sheet](https://towardsdatascience.com/cheat-sheet-for-google-colab-63853778c093)\n",
        "\n",
        "\n",
        "*   [Colab Quickguide](https://www.tutorialspoint.com/google_colab/google_colab_quick_guide.htm)"
      ]
    }
  ]
}